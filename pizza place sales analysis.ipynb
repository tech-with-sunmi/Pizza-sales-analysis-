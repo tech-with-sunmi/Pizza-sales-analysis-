{
 "cells": [
  {
   "cell_type": "markdown",
   "id": "59ee8bb3",
   "metadata": {},
   "source": [
    "# Pizza Place Sales Analysis and Insights"
   ]
  },
  {
   "cell_type": "markdown",
   "id": "422b6bd7",
   "metadata": {},
   "source": [
    "This project explores pizza sales data to uncover key business insights such as revenue trends,customer demand patterns and top performing pizza types.\n",
    "\n",
    "The analysis demonstrates data cleaning,transformation and visualization using Python."
   ]
  },
  {
   "cell_type": "markdown",
   "id": "9d16613f",
   "metadata": {},
   "source": [
    "## Pizza Sales KPIs\n",
    "\n",
    "1. Total Revenue:$817,860.05\n",
    "\n",
    "2. Total Quantity Sold: $49,574 pizzas\n",
    "\n",
    "3. Total Orders Placed: 21,350\n",
    "\n",
    "4. Number of Pizza Types: 32\n",
    "\n",
    "5. Average Pizza Price:$16.44"
   ]
  },
  {
   "cell_type": "code",
   "execution_count": 32,
   "id": "35ad6fe4",
   "metadata": {},
   "outputs": [],
   "source": [
    "# Importing necesary libraries\n",
    "import numpy as np\n",
    "import pandas as pd\n",
    "import matplotlib.pyplot as plt\n",
    "import seaborn as sns\n",
    "import zipfile\n",
    "import os"
   ]
  },
  {
   "cell_type": "code",
   "execution_count": 33,
   "id": "3115c5e0",
   "metadata": {},
   "outputs": [],
   "source": [
    "#Extract and load CSV\n",
    "\n",
    "zip_path = r\"c:\\Users\\HP USER\\Downloads\\Pizza+Place+Sales.zip\"\n",
    "extract_dir = r\"c:\\Users\\HP USER\\Downloads\\pizza_sales_data\""
   ]
  },
  {
   "cell_type": "code",
   "execution_count": 34,
   "id": "62b63962",
   "metadata": {},
   "outputs": [],
   "source": [
    "#Extract the zip\n",
    "\n",
    "with zipfile.ZipFile(zip_path, 'r') as z:\n",
    "    z.extractall(extract_dir)"
   ]
  },
  {
   "cell_type": "code",
   "execution_count": 35,
   "id": "464b76ab",
   "metadata": {},
   "outputs": [],
   "source": [
    "#Load CSVs with robust encoding\n",
    "\n",
    "def load_csv(path):\n",
    "    try:\n",
    "        return pd.read_csv(path, encoding=\"utf-8\")\n",
    "    except UnicodeDecodeError:\n",
    "        return pd.read_csv(path, encoding=\"latin-1\")"
   ]
  },
  {
   "cell_type": "code",
   "execution_count": 36,
   "id": "af12fac2",
   "metadata": {},
   "outputs": [],
   "source": [
    "#Load all CSVs\n",
    "\n",
    "\n",
    "orders = load_csv(os.path.join(extract_dir, \"pizza_sales\", \"orders.csv\"))\n",
    "order_details = load_csv(os.path.join(extract_dir, \"pizza_sales\", \"order_details.csv\"))\n",
    "pizzas = load_csv(os.path.join(extract_dir, \"pizza_sales\" ,\"pizzas.csv\"))\n",
    "pizza_types = load_csv(os.path.join(extract_dir, \"pizza_sales\", \"pizza_types.csv\"))"
   ]
  },
  {
   "cell_type": "code",
   "execution_count": 37,
   "id": "ed1eb51d",
   "metadata": {},
   "outputs": [],
   "source": [
    "#create order date_time colunm\n",
    "\n",
    "orders[\"order_datetime\"] = pd.to_datetime(\n",
    "orders[\"date\"].astype(str) + ' ' + orders[\"time\"].astype(str),\n",
    "errors = \"coerce\"                                            \n",
    ")                                                "
   ]
  },
  {
   "cell_type": "code",
   "execution_count": 38,
   "id": "b7c677d0",
   "metadata": {},
   "outputs": [],
   "source": [
    "# Merge all datasets\n",
    "\n",
    "merged = order_details.merge(orders[['order_id', 'order_datetime']], on = 'order_id', how ='left')\n",
    "merged = merged.merge(pizzas, on = 'pizza_id', how = 'left')\n",
    "merged = merged.merge(pizza_types, on = 'pizza_type_id', how = 'left')"
   ]
  },
  {
   "cell_type": "code",
   "execution_count": 39,
   "id": "160fe358",
   "metadata": {},
   "outputs": [
    {
     "data": {
      "text/html": [
       "<div>\n",
       "<style scoped>\n",
       "    .dataframe tbody tr th:only-of-type {\n",
       "        vertical-align: middle;\n",
       "    }\n",
       "\n",
       "    .dataframe tbody tr th {\n",
       "        vertical-align: top;\n",
       "    }\n",
       "\n",
       "    .dataframe thead th {\n",
       "        text-align: right;\n",
       "    }\n",
       "</style>\n",
       "<table border=\"1\" class=\"dataframe\">\n",
       "  <thead>\n",
       "    <tr style=\"text-align: right;\">\n",
       "      <th></th>\n",
       "      <th>order_details_id</th>\n",
       "      <th>order_id</th>\n",
       "      <th>pizza_id</th>\n",
       "      <th>quantity</th>\n",
       "      <th>order_datetime</th>\n",
       "      <th>pizza_type_id</th>\n",
       "      <th>size</th>\n",
       "      <th>price</th>\n",
       "      <th>name</th>\n",
       "      <th>category</th>\n",
       "      <th>ingredients</th>\n",
       "    </tr>\n",
       "  </thead>\n",
       "  <tbody>\n",
       "    <tr>\n",
       "      <th>0</th>\n",
       "      <td>1</td>\n",
       "      <td>1</td>\n",
       "      <td>hawaiian_m</td>\n",
       "      <td>1</td>\n",
       "      <td>2015-01-01 11:38:36</td>\n",
       "      <td>hawaiian</td>\n",
       "      <td>M</td>\n",
       "      <td>13.25</td>\n",
       "      <td>The Hawaiian Pizza</td>\n",
       "      <td>Classic</td>\n",
       "      <td>Sliced Ham, Pineapple, Mozzarella Cheese</td>\n",
       "    </tr>\n",
       "    <tr>\n",
       "      <th>1</th>\n",
       "      <td>2</td>\n",
       "      <td>2</td>\n",
       "      <td>classic_dlx_m</td>\n",
       "      <td>1</td>\n",
       "      <td>2015-01-01 11:57:40</td>\n",
       "      <td>classic_dlx</td>\n",
       "      <td>M</td>\n",
       "      <td>16.00</td>\n",
       "      <td>The Classic Deluxe Pizza</td>\n",
       "      <td>Classic</td>\n",
       "      <td>Pepperoni, Mushrooms, Red Onions, Red Peppers,...</td>\n",
       "    </tr>\n",
       "    <tr>\n",
       "      <th>2</th>\n",
       "      <td>3</td>\n",
       "      <td>2</td>\n",
       "      <td>five_cheese_l</td>\n",
       "      <td>1</td>\n",
       "      <td>2015-01-01 11:57:40</td>\n",
       "      <td>five_cheese</td>\n",
       "      <td>L</td>\n",
       "      <td>18.50</td>\n",
       "      <td>The Five Cheese Pizza</td>\n",
       "      <td>Veggie</td>\n",
       "      <td>Mozzarella Cheese, Provolone Cheese, Smoked Go...</td>\n",
       "    </tr>\n",
       "    <tr>\n",
       "      <th>3</th>\n",
       "      <td>4</td>\n",
       "      <td>2</td>\n",
       "      <td>ital_supr_l</td>\n",
       "      <td>1</td>\n",
       "      <td>2015-01-01 11:57:40</td>\n",
       "      <td>ital_supr</td>\n",
       "      <td>L</td>\n",
       "      <td>20.75</td>\n",
       "      <td>The Italian Supreme Pizza</td>\n",
       "      <td>Supreme</td>\n",
       "      <td>Calabrese Salami, Capocollo, Tomatoes, Red Oni...</td>\n",
       "    </tr>\n",
       "    <tr>\n",
       "      <th>4</th>\n",
       "      <td>5</td>\n",
       "      <td>2</td>\n",
       "      <td>mexicana_m</td>\n",
       "      <td>1</td>\n",
       "      <td>2015-01-01 11:57:40</td>\n",
       "      <td>mexicana</td>\n",
       "      <td>M</td>\n",
       "      <td>16.00</td>\n",
       "      <td>The Mexicana Pizza</td>\n",
       "      <td>Veggie</td>\n",
       "      <td>Tomatoes, Red Peppers, Jalapeno Peppers, Red O...</td>\n",
       "    </tr>\n",
       "    <tr>\n",
       "      <th>...</th>\n",
       "      <td>...</td>\n",
       "      <td>...</td>\n",
       "      <td>...</td>\n",
       "      <td>...</td>\n",
       "      <td>...</td>\n",
       "      <td>...</td>\n",
       "      <td>...</td>\n",
       "      <td>...</td>\n",
       "      <td>...</td>\n",
       "      <td>...</td>\n",
       "      <td>...</td>\n",
       "    </tr>\n",
       "    <tr>\n",
       "      <th>48615</th>\n",
       "      <td>48616</td>\n",
       "      <td>21348</td>\n",
       "      <td>ckn_alfredo_m</td>\n",
       "      <td>1</td>\n",
       "      <td>2015-12-31 21:23:10</td>\n",
       "      <td>ckn_alfredo</td>\n",
       "      <td>M</td>\n",
       "      <td>16.75</td>\n",
       "      <td>The Chicken Alfredo Pizza</td>\n",
       "      <td>Chicken</td>\n",
       "      <td>Chicken, Red Onions, Red Peppers, Mushrooms, A...</td>\n",
       "    </tr>\n",
       "    <tr>\n",
       "      <th>48616</th>\n",
       "      <td>48617</td>\n",
       "      <td>21348</td>\n",
       "      <td>four_cheese_l</td>\n",
       "      <td>1</td>\n",
       "      <td>2015-12-31 21:23:10</td>\n",
       "      <td>four_cheese</td>\n",
       "      <td>L</td>\n",
       "      <td>17.95</td>\n",
       "      <td>The Four Cheese Pizza</td>\n",
       "      <td>Veggie</td>\n",
       "      <td>Ricotta Cheese, Gorgonzola Piccante Cheese, Mo...</td>\n",
       "    </tr>\n",
       "    <tr>\n",
       "      <th>48617</th>\n",
       "      <td>48618</td>\n",
       "      <td>21348</td>\n",
       "      <td>napolitana_s</td>\n",
       "      <td>1</td>\n",
       "      <td>2015-12-31 21:23:10</td>\n",
       "      <td>napolitana</td>\n",
       "      <td>S</td>\n",
       "      <td>12.00</td>\n",
       "      <td>The Napolitana Pizza</td>\n",
       "      <td>Classic</td>\n",
       "      <td>Tomatoes, Anchovies, Green Olives, Red Onions,...</td>\n",
       "    </tr>\n",
       "    <tr>\n",
       "      <th>48618</th>\n",
       "      <td>48619</td>\n",
       "      <td>21349</td>\n",
       "      <td>mexicana_l</td>\n",
       "      <td>1</td>\n",
       "      <td>2015-12-31 22:09:54</td>\n",
       "      <td>mexicana</td>\n",
       "      <td>L</td>\n",
       "      <td>20.25</td>\n",
       "      <td>The Mexicana Pizza</td>\n",
       "      <td>Veggie</td>\n",
       "      <td>Tomatoes, Red Peppers, Jalapeno Peppers, Red O...</td>\n",
       "    </tr>\n",
       "    <tr>\n",
       "      <th>48619</th>\n",
       "      <td>48620</td>\n",
       "      <td>21350</td>\n",
       "      <td>bbq_ckn_s</td>\n",
       "      <td>1</td>\n",
       "      <td>2015-12-31 23:02:05</td>\n",
       "      <td>bbq_ckn</td>\n",
       "      <td>S</td>\n",
       "      <td>12.75</td>\n",
       "      <td>The Barbecue Chicken Pizza</td>\n",
       "      <td>Chicken</td>\n",
       "      <td>Barbecued Chicken, Red Peppers, Green Peppers,...</td>\n",
       "    </tr>\n",
       "  </tbody>\n",
       "</table>\n",
       "<p>48620 rows × 11 columns</p>\n",
       "</div>"
      ],
      "text/plain": [
       "       order_details_id  order_id       pizza_id  quantity  \\\n",
       "0                     1         1     hawaiian_m         1   \n",
       "1                     2         2  classic_dlx_m         1   \n",
       "2                     3         2  five_cheese_l         1   \n",
       "3                     4         2    ital_supr_l         1   \n",
       "4                     5         2     mexicana_m         1   \n",
       "...                 ...       ...            ...       ...   \n",
       "48615             48616     21348  ckn_alfredo_m         1   \n",
       "48616             48617     21348  four_cheese_l         1   \n",
       "48617             48618     21348   napolitana_s         1   \n",
       "48618             48619     21349     mexicana_l         1   \n",
       "48619             48620     21350      bbq_ckn_s         1   \n",
       "\n",
       "           order_datetime pizza_type_id size  price  \\\n",
       "0     2015-01-01 11:38:36      hawaiian    M  13.25   \n",
       "1     2015-01-01 11:57:40   classic_dlx    M  16.00   \n",
       "2     2015-01-01 11:57:40   five_cheese    L  18.50   \n",
       "3     2015-01-01 11:57:40     ital_supr    L  20.75   \n",
       "4     2015-01-01 11:57:40      mexicana    M  16.00   \n",
       "...                   ...           ...  ...    ...   \n",
       "48615 2015-12-31 21:23:10   ckn_alfredo    M  16.75   \n",
       "48616 2015-12-31 21:23:10   four_cheese    L  17.95   \n",
       "48617 2015-12-31 21:23:10    napolitana    S  12.00   \n",
       "48618 2015-12-31 22:09:54      mexicana    L  20.25   \n",
       "48619 2015-12-31 23:02:05       bbq_ckn    S  12.75   \n",
       "\n",
       "                             name category  \\\n",
       "0              The Hawaiian Pizza  Classic   \n",
       "1        The Classic Deluxe Pizza  Classic   \n",
       "2           The Five Cheese Pizza   Veggie   \n",
       "3       The Italian Supreme Pizza  Supreme   \n",
       "4              The Mexicana Pizza   Veggie   \n",
       "...                           ...      ...   \n",
       "48615   The Chicken Alfredo Pizza  Chicken   \n",
       "48616       The Four Cheese Pizza   Veggie   \n",
       "48617        The Napolitana Pizza  Classic   \n",
       "48618          The Mexicana Pizza   Veggie   \n",
       "48619  The Barbecue Chicken Pizza  Chicken   \n",
       "\n",
       "                                             ingredients  \n",
       "0               Sliced Ham, Pineapple, Mozzarella Cheese  \n",
       "1      Pepperoni, Mushrooms, Red Onions, Red Peppers,...  \n",
       "2      Mozzarella Cheese, Provolone Cheese, Smoked Go...  \n",
       "3      Calabrese Salami, Capocollo, Tomatoes, Red Oni...  \n",
       "4      Tomatoes, Red Peppers, Jalapeno Peppers, Red O...  \n",
       "...                                                  ...  \n",
       "48615  Chicken, Red Onions, Red Peppers, Mushrooms, A...  \n",
       "48616  Ricotta Cheese, Gorgonzola Piccante Cheese, Mo...  \n",
       "48617  Tomatoes, Anchovies, Green Olives, Red Onions,...  \n",
       "48618  Tomatoes, Red Peppers, Jalapeno Peppers, Red O...  \n",
       "48619  Barbecued Chicken, Red Peppers, Green Peppers,...  \n",
       "\n",
       "[48620 rows x 11 columns]"
      ]
     },
     "execution_count": 39,
     "metadata": {},
     "output_type": "execute_result"
    }
   ],
   "source": [
    "merged"
   ]
  },
  {
   "cell_type": "code",
   "execution_count": 40,
   "id": "21b6d125",
   "metadata": {},
   "outputs": [
    {
     "data": {
      "text/html": [
       "<div>\n",
       "<style scoped>\n",
       "    .dataframe tbody tr th:only-of-type {\n",
       "        vertical-align: middle;\n",
       "    }\n",
       "\n",
       "    .dataframe tbody tr th {\n",
       "        vertical-align: top;\n",
       "    }\n",
       "\n",
       "    .dataframe thead th {\n",
       "        text-align: right;\n",
       "    }\n",
       "</style>\n",
       "<table border=\"1\" class=\"dataframe\">\n",
       "  <thead>\n",
       "    <tr style=\"text-align: right;\">\n",
       "      <th></th>\n",
       "      <th>order_details_id</th>\n",
       "      <th>order_id</th>\n",
       "      <th>pizza_id</th>\n",
       "      <th>quantity</th>\n",
       "      <th>order_datetime</th>\n",
       "      <th>pizza_type_id</th>\n",
       "      <th>size</th>\n",
       "      <th>price</th>\n",
       "      <th>name</th>\n",
       "      <th>category</th>\n",
       "      <th>ingredients</th>\n",
       "    </tr>\n",
       "  </thead>\n",
       "  <tbody>\n",
       "    <tr>\n",
       "      <th>0</th>\n",
       "      <td>1</td>\n",
       "      <td>1</td>\n",
       "      <td>hawaiian_m</td>\n",
       "      <td>1</td>\n",
       "      <td>2015-01-01 11:38:36</td>\n",
       "      <td>hawaiian</td>\n",
       "      <td>M</td>\n",
       "      <td>13.25</td>\n",
       "      <td>The Hawaiian Pizza</td>\n",
       "      <td>Classic</td>\n",
       "      <td>Sliced Ham, Pineapple, Mozzarella Cheese</td>\n",
       "    </tr>\n",
       "    <tr>\n",
       "      <th>1</th>\n",
       "      <td>2</td>\n",
       "      <td>2</td>\n",
       "      <td>classic_dlx_m</td>\n",
       "      <td>1</td>\n",
       "      <td>2015-01-01 11:57:40</td>\n",
       "      <td>classic_dlx</td>\n",
       "      <td>M</td>\n",
       "      <td>16.00</td>\n",
       "      <td>The Classic Deluxe Pizza</td>\n",
       "      <td>Classic</td>\n",
       "      <td>Pepperoni, Mushrooms, Red Onions, Red Peppers,...</td>\n",
       "    </tr>\n",
       "    <tr>\n",
       "      <th>2</th>\n",
       "      <td>3</td>\n",
       "      <td>2</td>\n",
       "      <td>five_cheese_l</td>\n",
       "      <td>1</td>\n",
       "      <td>2015-01-01 11:57:40</td>\n",
       "      <td>five_cheese</td>\n",
       "      <td>L</td>\n",
       "      <td>18.50</td>\n",
       "      <td>The Five Cheese Pizza</td>\n",
       "      <td>Veggie</td>\n",
       "      <td>Mozzarella Cheese, Provolone Cheese, Smoked Go...</td>\n",
       "    </tr>\n",
       "    <tr>\n",
       "      <th>3</th>\n",
       "      <td>4</td>\n",
       "      <td>2</td>\n",
       "      <td>ital_supr_l</td>\n",
       "      <td>1</td>\n",
       "      <td>2015-01-01 11:57:40</td>\n",
       "      <td>ital_supr</td>\n",
       "      <td>L</td>\n",
       "      <td>20.75</td>\n",
       "      <td>The Italian Supreme Pizza</td>\n",
       "      <td>Supreme</td>\n",
       "      <td>Calabrese Salami, Capocollo, Tomatoes, Red Oni...</td>\n",
       "    </tr>\n",
       "    <tr>\n",
       "      <th>4</th>\n",
       "      <td>5</td>\n",
       "      <td>2</td>\n",
       "      <td>mexicana_m</td>\n",
       "      <td>1</td>\n",
       "      <td>2015-01-01 11:57:40</td>\n",
       "      <td>mexicana</td>\n",
       "      <td>M</td>\n",
       "      <td>16.00</td>\n",
       "      <td>The Mexicana Pizza</td>\n",
       "      <td>Veggie</td>\n",
       "      <td>Tomatoes, Red Peppers, Jalapeno Peppers, Red O...</td>\n",
       "    </tr>\n",
       "  </tbody>\n",
       "</table>\n",
       "</div>"
      ],
      "text/plain": [
       "   order_details_id  order_id       pizza_id  quantity      order_datetime  \\\n",
       "0                 1         1     hawaiian_m         1 2015-01-01 11:38:36   \n",
       "1                 2         2  classic_dlx_m         1 2015-01-01 11:57:40   \n",
       "2                 3         2  five_cheese_l         1 2015-01-01 11:57:40   \n",
       "3                 4         2    ital_supr_l         1 2015-01-01 11:57:40   \n",
       "4                 5         2     mexicana_m         1 2015-01-01 11:57:40   \n",
       "\n",
       "  pizza_type_id size  price                       name category  \\\n",
       "0      hawaiian    M  13.25         The Hawaiian Pizza  Classic   \n",
       "1   classic_dlx    M  16.00   The Classic Deluxe Pizza  Classic   \n",
       "2   five_cheese    L  18.50      The Five Cheese Pizza   Veggie   \n",
       "3     ital_supr    L  20.75  The Italian Supreme Pizza  Supreme   \n",
       "4      mexicana    M  16.00         The Mexicana Pizza   Veggie   \n",
       "\n",
       "                                         ingredients  \n",
       "0           Sliced Ham, Pineapple, Mozzarella Cheese  \n",
       "1  Pepperoni, Mushrooms, Red Onions, Red Peppers,...  \n",
       "2  Mozzarella Cheese, Provolone Cheese, Smoked Go...  \n",
       "3  Calabrese Salami, Capocollo, Tomatoes, Red Oni...  \n",
       "4  Tomatoes, Red Peppers, Jalapeno Peppers, Red O...  "
      ]
     },
     "execution_count": 40,
     "metadata": {},
     "output_type": "execute_result"
    }
   ],
   "source": [
    "merged.head() #checking first 5 rows for any irregularities"
   ]
  },
  {
   "cell_type": "code",
   "execution_count": 41,
   "id": "701e9cdf",
   "metadata": {},
   "outputs": [
    {
     "data": {
      "text/plain": [
       "order_details_id    0\n",
       "order_id            0\n",
       "pizza_id            0\n",
       "quantity            0\n",
       "order_datetime      0\n",
       "pizza_type_id       0\n",
       "size                0\n",
       "price               0\n",
       "name                0\n",
       "category            0\n",
       "ingredients         0\n",
       "dtype: int64"
      ]
     },
     "execution_count": 41,
     "metadata": {},
     "output_type": "execute_result"
    }
   ],
   "source": [
    "merged.isna().sum() #checking for null values"
   ]
  },
  {
   "cell_type": "code",
   "execution_count": 42,
   "id": "15a479de",
   "metadata": {},
   "outputs": [
    {
     "data": {
      "text/plain": [
       "np.int64(0)"
      ]
     },
     "execution_count": 42,
     "metadata": {},
     "output_type": "execute_result"
    }
   ],
   "source": [
    "merged.duplicated().sum() # checking for duplicates"
   ]
  },
  {
   "cell_type": "code",
   "execution_count": 43,
   "id": "a6928143",
   "metadata": {},
   "outputs": [
    {
     "name": "stdout",
     "output_type": "stream",
     "text": [
      "<class 'pandas.core.frame.DataFrame'>\n",
      "RangeIndex: 48620 entries, 0 to 48619\n",
      "Data columns (total 11 columns):\n",
      " #   Column            Non-Null Count  Dtype         \n",
      "---  ------            --------------  -----         \n",
      " 0   order_details_id  48620 non-null  int64         \n",
      " 1   order_id          48620 non-null  int64         \n",
      " 2   pizza_id          48620 non-null  object        \n",
      " 3   quantity          48620 non-null  int64         \n",
      " 4   order_datetime    48620 non-null  datetime64[ns]\n",
      " 5   pizza_type_id     48620 non-null  object        \n",
      " 6   size              48620 non-null  object        \n",
      " 7   price             48620 non-null  float64       \n",
      " 8   name              48620 non-null  object        \n",
      " 9   category          48620 non-null  object        \n",
      " 10  ingredients       48620 non-null  object        \n",
      "dtypes: datetime64[ns](1), float64(1), int64(3), object(6)\n",
      "memory usage: 4.1+ MB\n"
     ]
    }
   ],
   "source": [
    "merged.info()\n"
   ]
  },
  {
   "cell_type": "code",
   "execution_count": 44,
   "id": "f02bbdb1",
   "metadata": {},
   "outputs": [],
   "source": [
    "# Compute Revenue\n",
    "\n",
    "merged['quantity'] =pd.to_numeric(merged['quantity'], errors='coerce').fillna(0).astype(int)\n",
    "merged['price'] =pd.to_numeric(merged['price'], errors='coerce').fillna(0.0)\n",
    "merged['revenue'] = merged['quantity'] * merged['price']"
   ]
  },
  {
   "cell_type": "code",
   "execution_count": 45,
   "id": "d5480a16",
   "metadata": {},
   "outputs": [
    {
     "data": {
      "text/html": [
       "<div>\n",
       "<style scoped>\n",
       "    .dataframe tbody tr th:only-of-type {\n",
       "        vertical-align: middle;\n",
       "    }\n",
       "\n",
       "    .dataframe tbody tr th {\n",
       "        vertical-align: top;\n",
       "    }\n",
       "\n",
       "    .dataframe thead th {\n",
       "        text-align: right;\n",
       "    }\n",
       "</style>\n",
       "<table border=\"1\" class=\"dataframe\">\n",
       "  <thead>\n",
       "    <tr style=\"text-align: right;\">\n",
       "      <th></th>\n",
       "      <th>order_details_id</th>\n",
       "      <th>order_id</th>\n",
       "      <th>quantity</th>\n",
       "      <th>order_datetime</th>\n",
       "      <th>price</th>\n",
       "      <th>revenue</th>\n",
       "    </tr>\n",
       "  </thead>\n",
       "  <tbody>\n",
       "    <tr>\n",
       "      <th>count</th>\n",
       "      <td>48620.000000</td>\n",
       "      <td>48620.000000</td>\n",
       "      <td>48620.000000</td>\n",
       "      <td>48620</td>\n",
       "      <td>48620.000000</td>\n",
       "      <td>48620.000000</td>\n",
       "    </tr>\n",
       "    <tr>\n",
       "      <th>mean</th>\n",
       "      <td>24310.500000</td>\n",
       "      <td>10701.479761</td>\n",
       "      <td>1.019622</td>\n",
       "      <td>2015-06-30 03:28:34.933833984</td>\n",
       "      <td>16.494132</td>\n",
       "      <td>16.821474</td>\n",
       "    </tr>\n",
       "    <tr>\n",
       "      <th>min</th>\n",
       "      <td>1.000000</td>\n",
       "      <td>1.000000</td>\n",
       "      <td>1.000000</td>\n",
       "      <td>2015-01-01 11:38:36</td>\n",
       "      <td>9.750000</td>\n",
       "      <td>9.750000</td>\n",
       "    </tr>\n",
       "    <tr>\n",
       "      <th>25%</th>\n",
       "      <td>12155.750000</td>\n",
       "      <td>5337.000000</td>\n",
       "      <td>1.000000</td>\n",
       "      <td>2015-03-31 15:34:31</td>\n",
       "      <td>12.750000</td>\n",
       "      <td>12.750000</td>\n",
       "    </tr>\n",
       "    <tr>\n",
       "      <th>50%</th>\n",
       "      <td>24310.500000</td>\n",
       "      <td>10682.500000</td>\n",
       "      <td>1.000000</td>\n",
       "      <td>2015-06-28 19:50:30</td>\n",
       "      <td>16.500000</td>\n",
       "      <td>16.500000</td>\n",
       "    </tr>\n",
       "    <tr>\n",
       "      <th>75%</th>\n",
       "      <td>36465.250000</td>\n",
       "      <td>16100.000000</td>\n",
       "      <td>1.000000</td>\n",
       "      <td>2015-09-28 18:39:55</td>\n",
       "      <td>20.250000</td>\n",
       "      <td>20.500000</td>\n",
       "    </tr>\n",
       "    <tr>\n",
       "      <th>max</th>\n",
       "      <td>48620.000000</td>\n",
       "      <td>21350.000000</td>\n",
       "      <td>4.000000</td>\n",
       "      <td>2015-12-31 23:02:05</td>\n",
       "      <td>35.950000</td>\n",
       "      <td>83.000000</td>\n",
       "    </tr>\n",
       "    <tr>\n",
       "      <th>std</th>\n",
       "      <td>14035.529381</td>\n",
       "      <td>6180.119770</td>\n",
       "      <td>0.143077</td>\n",
       "      <td>NaN</td>\n",
       "      <td>3.621789</td>\n",
       "      <td>4.437398</td>\n",
       "    </tr>\n",
       "  </tbody>\n",
       "</table>\n",
       "</div>"
      ],
      "text/plain": [
       "       order_details_id      order_id      quantity  \\\n",
       "count      48620.000000  48620.000000  48620.000000   \n",
       "mean       24310.500000  10701.479761      1.019622   \n",
       "min            1.000000      1.000000      1.000000   \n",
       "25%        12155.750000   5337.000000      1.000000   \n",
       "50%        24310.500000  10682.500000      1.000000   \n",
       "75%        36465.250000  16100.000000      1.000000   \n",
       "max        48620.000000  21350.000000      4.000000   \n",
       "std        14035.529381   6180.119770      0.143077   \n",
       "\n",
       "                      order_datetime         price       revenue  \n",
       "count                          48620  48620.000000  48620.000000  \n",
       "mean   2015-06-30 03:28:34.933833984     16.494132     16.821474  \n",
       "min              2015-01-01 11:38:36      9.750000      9.750000  \n",
       "25%              2015-03-31 15:34:31     12.750000     12.750000  \n",
       "50%              2015-06-28 19:50:30     16.500000     16.500000  \n",
       "75%              2015-09-28 18:39:55     20.250000     20.500000  \n",
       "max              2015-12-31 23:02:05     35.950000     83.000000  \n",
       "std                              NaN      3.621789      4.437398  "
      ]
     },
     "execution_count": 45,
     "metadata": {},
     "output_type": "execute_result"
    }
   ],
   "source": [
    "merged.describe()"
   ]
  },
  {
   "cell_type": "markdown",
   "id": "e3de3568",
   "metadata": {},
   "source": [
    "#### No significant missing or duplicate values found.\n",
    "\n",
    "#### Colunms were converted to numeric where necessary. "
   ]
  },
  {
   "cell_type": "markdown",
   "id": "a1aaf9fc",
   "metadata": {},
   "source": [
    "## Q1. Total Revenue/Sales\n"
   ]
  },
  {
   "cell_type": "code",
   "execution_count": 46,
   "id": "306dbbfd",
   "metadata": {},
   "outputs": [
    {
     "name": "stdout",
     "output_type": "stream",
     "text": [
      "Total Revenue(Sales):$ 817860.05\n"
     ]
    }
   ],
   "source": [
    "#  Step 3 :Analysis\n",
    "\n",
    "#1. Total revenue/sales?\n",
    "\n",
    "total_revenue = merged[\"revenue\"].sum()\n",
    "print(\"Total Revenue(Sales):$\",round(total_revenue, 2))"
   ]
  },
  {
   "cell_type": "markdown",
   "id": "d8165c47",
   "metadata": {},
   "source": [
    "\n",
    "* The total revenue generated from pizza sales is **$ 817860.05**\n",
    "\n",
    " \n"
   ]
  },
  {
   "cell_type": "markdown",
   "id": "bc1cc6cc",
   "metadata": {},
   "source": [
    "## Q2. Total Quantity Sold\n"
   ]
  },
  {
   "cell_type": "code",
   "execution_count": 47,
   "id": "d3661088",
   "metadata": {},
   "outputs": [
    {
     "name": "stdout",
     "output_type": "stream",
     "text": [
      "Total Quantity Sold: 49574\n"
     ]
    }
   ],
   "source": [
    "# 2. Total quantity sold \n",
    "\n",
    "total_quantity = merged['quantity'].sum()\n",
    "print(\"Total Quantity Sold:\", total_quantity)"
   ]
  },
  {
   "cell_type": "markdown",
   "id": "f8f4a35d",
   "metadata": {},
   "source": [
    "\n",
    "* A total of **49,574 pizzas** were sold"
   ]
  },
  {
   "cell_type": "markdown",
   "id": "c68ed97b",
   "metadata": {},
   "source": [
    "# Q3. Total Order Placed\n"
   ]
  },
  {
   "cell_type": "code",
   "execution_count": 48,
   "id": "f8a99663",
   "metadata": {},
   "outputs": [
    {
     "name": "stdout",
     "output_type": "stream",
     "text": [
      "Total Orders: 21350\n"
     ]
    }
   ],
   "source": [
    "#3 Total Orders\n",
    "\n",
    "total_orders = orders[\"order_id\"].nunique()\n",
    "print(\"Total Orders:\",total_orders)"
   ]
  },
  {
   "cell_type": "markdown",
   "id": "aa7d3e23",
   "metadata": {},
   "source": [
    "\n",
    "* There were **21,350 unique orders** placed"
   ]
  },
  {
   "cell_type": "markdown",
   "id": "1aaa29bc",
   "metadata": {},
   "source": [
    "## Q4. Number of Pizza Types "
   ]
  },
  {
   "cell_type": "code",
   "execution_count": 49,
   "id": "e0587f5a",
   "metadata": {},
   "outputs": [
    {
     "name": "stdout",
     "output_type": "stream",
     "text": [
      "Number of Pizza Types: 32\n"
     ]
    }
   ],
   "source": [
    "# 4. Number Of Pizza Types\n",
    "\n",
    "num_pizza_types = pizza_types['pizza_type_id'].nunique()\n",
    "print(\"Number of Pizza Types:\",num_pizza_types)"
   ]
  },
  {
   "cell_type": "markdown",
   "id": "08e0e27f",
   "metadata": {},
   "source": [
    "\n",
    "\n",
    "* The restaurant offers **32 different pizza types**"
   ]
  },
  {
   "cell_type": "markdown",
   "id": "bba90cca",
   "metadata": {},
   "source": [
    "## Q5. Average Price of Pizzas"
   ]
  },
  {
   "cell_type": "code",
   "execution_count": 50,
   "id": "d860029e",
   "metadata": {},
   "outputs": [
    {
     "name": "stdout",
     "output_type": "stream",
     "text": [
      "Average Pizza Price: $ 16.44\n"
     ]
    }
   ],
   "source": [
    "# 5. Average price  of Pizzas\n",
    "\n",
    "avg_price = pizzas[\"price\"].mean()\n",
    "print(\"Average Pizza Price: $\",round(avg_price, 2))"
   ]
  },
  {
   "cell_type": "markdown",
   "id": "8e0cc632",
   "metadata": {},
   "source": [
    "\n",
    "\n",
    "* The average listed price of pizzas is **$16.44**"
   ]
  },
  {
   "cell_type": "markdown",
   "id": "2b319fa5",
   "metadata": {},
   "source": [
    "## Q6.Peak Hours of Sales "
   ]
  },
  {
   "cell_type": "code",
   "execution_count": 51,
   "id": "d54b7936",
   "metadata": {},
   "outputs": [
    {
     "name": "stdout",
     "output_type": "stream",
     "text": [
      "hour\n",
      "12    111877.90\n",
      "13    106065.70\n",
      "18     89296.85\n",
      "17     86237.45\n",
      "19     72628.90\n",
      "Name: revenue, dtype: float64\n"
     ]
    }
   ],
   "source": [
    "# 6. Peak Hours of sales\n",
    "merged['hour'] = merged[\"order_datetime\"].dt.hour\n",
    "peak_hours = merged.groupby(\"hour\")[\"revenue\"].sum().sort_values(ascending=False).head(5)\n",
    "print(peak_hours)"
   ]
  },
  {
   "cell_type": "code",
   "execution_count": 52,
   "id": "f22e6347",
   "metadata": {},
   "outputs": [
    {
     "data": {
      "image/png": "[encoded data removed]",
      "text/plain": [
       "<Figure size 700x400 with 1 Axes>"
      ]
     },
     "metadata": {},
     "output_type": "display_data"
    }
   ],
   "source": [
    "# Visualization\n",
    "hourly_sales = merged.groupby(merged['order_datetime'].dt.hour)['revenue'].sum()\n",
    "plt.figure(figsize=(7,4))\n",
    "hourly_sales.plot(kind='bar', color= 'brown', edgecolor='black')\n",
    "plt.title(\"Revenue by Hour of Day\")\n",
    "plt.xlabel(\"Hour\")\n",
    "plt.ylabel(\"Revenue ($)\") \n",
    "plt.xticks(rotation=0)\n",
    "plt.show()"
   ]
  },
  {
   "cell_type": "markdown",
   "id": "027742e6",
   "metadata": {},
   "source": [
    "\n",
    "\n",
    "* Peak hours are **12:00-13:00 (lunch) and 17:00-19:00(dinner).**"
   ]
  },
  {
   "cell_type": "markdown",
   "id": "f9f0d9ca",
   "metadata": {},
   "source": [
    "## Q7. Sales by Day of the Week"
   ]
  },
  {
   "cell_type": "code",
   "execution_count": 53,
   "id": "223fa45d",
   "metadata": {},
   "outputs": [
    {
     "name": "stdout",
     "output_type": "stream",
     "text": [
      "day_of_week\n",
      "Friday       136073.90\n",
      "Thursday     123528.50\n",
      "Saturday     123182.40\n",
      "Wednesday    114408.40\n",
      "Tuesday      114133.80\n",
      "Monday       107329.55\n",
      "Sunday        99203.50\n",
      "Name: revenue, dtype: float64\n",
      "Best day: Friday\n"
     ]
    }
   ],
   "source": [
    "# 7. Sales by Day of the week\n",
    "\n",
    "merged[\"day_of_week\"] = merged[\"order_datetime\"].dt.day_name()\n",
    "dow_sales = merged.groupby(\"day_of_week\")[\"revenue\"].sum().sort_values(ascending=False)\n",
    "print(dow_sales)\n",
    "print(\"Best day:\", dow_sales.idxmax()) "
   ]
  },
  {
   "cell_type": "code",
   "execution_count": 54,
   "id": "1a741923",
   "metadata": {},
   "outputs": [
    {
     "data": {
      "image/png": "[encoded data removed]",
      "text/plain": [
       "<Figure size 700x400 with 1 Axes>"
      ]
     },
     "metadata": {},
     "output_type": "display_data"
    }
   ],
   "source": [
    "# Visualization\n",
    "dow_order =['Monday','Tuesday','Wednesday','Thursday','Friday','Saturday','Sunday']\n",
    "dow_sales = merged.groupby(merged['order_datetime'].dt.day_name())['revenue'].sum().reindex(dow_order)\n",
    "plt.figure(figsize=(7,4))\n",
    "dow_sales.plot(kind='bar', color= 'teal', edgecolor='black')\n",
    "plt.title(\"Revenue by Day of Week\")\n",
    "plt.xlabel(\"Day of Week\")\n",
    "plt.ylabel(\"Revenue ($)\") \n",
    "plt.xticks(rotation=45)\n",
    "plt.show()"
   ]
  },
  {
   "cell_type": "markdown",
   "id": "8f3a774c",
   "metadata": {},
   "source": [
    "\n",
    "\n",
    "* **Friday** is the best day (~$136k revenue),followed by **Thursday** and **Saturday**"
   ]
  },
  {
   "cell_type": "markdown",
   "id": "40e9706c",
   "metadata": {},
   "source": [
    "## Q8. Top 5 Bestselling Pizzas\n"
   ]
  },
  {
   "cell_type": "code",
   "execution_count": 55,
   "id": "6d02ad48",
   "metadata": {},
   "outputs": [
    {
     "name": "stdout",
     "output_type": "stream",
     "text": [
      "pizza_label\n",
      "The Big Meat Pizza (S)          1914\n",
      "The Thai Chicken Pizza (L)      1410\n",
      "The Five Cheese Pizza (L)       1409\n",
      "The Four Cheese Pizza (L)       1316\n",
      "The Classic Deluxe Pizza (M)    1181\n",
      "Name: quantity, dtype: int64\n"
     ]
    }
   ],
   "source": [
    "# 8. Top 5 Bestselling Pizzas \n",
    "\n",
    "merged['pizza_label'] = merged['name'] + \" (\" + merged['size'] + \")\" \n",
    "top5_pizzas = merged.groupby('pizza_label')['quantity'].sum().sort_values(ascending=False).head(5)\n",
    "print(top5_pizzas)\n"
   ]
  },
  {
   "cell_type": "code",
   "execution_count": 56,
   "id": "e0328911",
   "metadata": {},
   "outputs": [
    {
     "data": {
      "image/png": "[encoded data removed]",
      "text/plain": [
       "<Figure size 700x400 with 1 Axes>"
      ]
     },
     "metadata": {},
     "output_type": "display_data"
    }
   ],
   "source": [
    "# Visualization\n",
    "\n",
    "top5_pizzas = merged.groupby('pizza_label')['quantity'].sum().sort_values(ascending=False).head(5)\n",
    "plt.figure(figsize=(7,4))\n",
    "top5_pizzas.plot(kind='barh', color= 'tomato', edgecolor='black')\n",
    "plt.title(\"Top 5 Bestselling Pizzas\")\n",
    "plt.xlabel(\"Quantity Sold\")\n",
    "plt.ylabel(\"Pizzas\") \n",
    "plt.gca().invert_yaxis()\n",
    "plt.show()"
   ]
  },
  {
   "cell_type": "markdown",
   "id": "d57bbdf6",
   "metadata": {},
   "source": [
    "\n",
    "1.The Big Meat Pizza (S) : 1,914\n",
    "\n",
    "2.The Thai Chicken Pizza (L) : 1,410\n",
    "\n",
    "3.The Five Cheese Pizza (L) : 1,409\n",
    "\n",
    "4.The Four Cheese Pizza (L) :1,316\n",
    "\n",
    "5.The Classic Deluxe Pizza (M) : 1,181"
   ]
  },
  {
   "cell_type": "markdown",
   "id": "d8d6f0d8",
   "metadata": {},
   "source": [
    "## Q9. Montly Sales Trend"
   ]
  },
  {
   "cell_type": "code",
   "execution_count": 57,
   "id": "61e0a2fb",
   "metadata": {},
   "outputs": [
    {
     "name": "stdout",
     "output_type": "stream",
     "text": [
      "month\n",
      "2015-01    69793.30\n",
      "2015-02    65159.60\n",
      "2015-03    70397.10\n",
      "2015-04    68736.80\n",
      "2015-05    71402.75\n",
      "2015-06    68230.20\n",
      "2015-07    72557.90\n",
      "2015-08    68278.25\n",
      "2015-09    64180.05\n",
      "2015-10    64027.60\n",
      "2015-11    70395.35\n",
      "2015-12    64701.15\n",
      "Freq: M, Name: revenue, dtype: float64\n"
     ]
    }
   ],
   "source": [
    "# 9. Monthly Sales Trend\n",
    "\n",
    "merged['month'] = merged['order_datetime'].dt.to_period('M')\n",
    "monthly_sales = merged.groupby('month')['revenue'].sum() \n",
    "print(monthly_sales)"
   ]
  },
  {
   "cell_type": "code",
   "execution_count": 58,
   "id": "35acac46",
   "metadata": {},
   "outputs": [
    {
     "data": {
      "image/png": "[encoded data removed]",
      "text/plain": [
       "<Figure size 640x480 with 1 Axes>"
      ]
     },
     "metadata": {},
     "output_type": "display_data"
    }
   ],
   "source": [
    "# Visualization\n",
    "\n",
    "monthly_sales.plot(marker='o',color='purple')\n",
    "plt.title(\"Monthly Revenue Trend\", fontsize=14) \n",
    "plt.xlabel(\"Month\")\n",
    "plt.ylabel(\"Revenue ($)\") \n",
    "plt.xticks(rotation=45)\n",
    "plt.grid(True,linestyle='--',alpha=0.5)\n",
    "plt.show()"
   ]
  },
  {
   "cell_type": "markdown",
   "id": "529d7396",
   "metadata": {},
   "source": [
    "\n",
    "* Monthly revenue ranges between **64k** and **72k**,averaging ~$68k.\n",
    "\n"
   ]
  },
  {
   "cell_type": "markdown",
   "id": "9357394a",
   "metadata": {},
   "source": [
    "## Q10. Underperforming Pizza Types"
   ]
  },
  {
   "cell_type": "code",
   "execution_count": 59,
   "id": "8d605cc7",
   "metadata": {},
   "outputs": [
    {
     "name": "stdout",
     "output_type": "stream",
     "text": [
      "name\n",
      "The Brie Carre Pizza         11588.50\n",
      "The Green Garden Pizza       13955.75\n",
      "The Spinach Supreme Pizza    15277.75\n",
      "The Mediterranean Pizza      15360.50\n",
      "The Spinach Pesto Pizza      15596.00\n",
      "Name: revenue, dtype: float64\n"
     ]
    }
   ],
   "source": [
    "# 10 Underperforming Pizza Types\n",
    "type_performance = merged.groupby('name')['revenue'].sum().sort_values() \n",
    "print(type_performance.head(5))"
   ]
  },
  {
   "cell_type": "code",
   "execution_count": 60,
   "id": "1794c791",
   "metadata": {},
   "outputs": [
    {
     "data": {
      "image/png": "[encoded data removed]",
      "text/plain": [
       "<Figure size 700x400 with 1 Axes>"
      ]
     },
     "metadata": {},
     "output_type": "display_data"
    }
   ],
   "source": [
    "# Visualization \n",
    "\n",
    "bottom5_pizzas = merged.groupby('name')['revenue'].sum().sort_values().head(5) \n",
    "plt.figure(figsize=(7,4)) \n",
    "bottom5_pizzas.plot(kind='barh', color='orange',edgecolor='black')\n",
    "plt.title(\"Bottom 5 Pizza Types by Revenue\")\n",
    "plt.xlabel(\"Revenue ($)\") \n",
    "plt.ylabel(\"Pizza\")\n",
    "plt.show()"
   ]
  },
  {
   "cell_type": "markdown",
   "id": "1fe0a03d",
   "metadata": {},
   "source": [
    "\n",
    "\n",
    "#### Lowest revenue pizzas:\n",
    "\n",
    "* The Brie Carre Pizza ~ $11,589\n",
    "\n",
    "* The Green Garden Pizza ~ $13,956\n",
    "\n",
    "* The Spinach Supreme Pizza ~ $15,278"
   ]
  },
  {
   "cell_type": "markdown",
   "id": "ad7bc330",
   "metadata": {},
   "source": [
    "# Pizza Sales Analysis(Markdown Report)\n",
    "\n",
    "### Q1. Total Revenue/Sales\n",
    "\n",
    "* The total revenue enated from pizza sales is **$817,860.05**.\n",
    "\n",
    "* With over **21,000** orders this equals an average order value of about $38.3.\n",
    "\n",
    "* Sales are driven by **lunch and dinner peaks** aand **end of week demand**\n",
    "\n",
    "### Q2. Total Quantity Sold \n",
    "\n",
    "* A Total of **49,574** pizzas were sold.\n",
    "\n",
    "* On average, each order contains about **2-3** pizzas.\n",
    "\n",
    "* This confirms a steady demand throught the year.\n",
    "\n",
    "### Q3.Total Orders Placed\n",
    "\n",
    "* There were **21,350** unique orders placed.\n",
    "\n",
    "* This provides a baseline for customer demand and capacity planning.\n",
    "\n",
    "* Combined with revenue, it indicates an average revenue of **~$38** per order.\n",
    "\n",
    "\n",
    "### Q4. Number of Pizza Types \n",
    "\n",
    "* The restaurant offers **32 different pizza types**\n",
    "\n",
    "* A diverse menu increases customer choice but can also spread sales unevenly across items\n",
    "\n",
    "### Q5. Average Price of Pizzas\n",
    "\n",
    "* The average listed price of pizzas is **$16.44**.\n",
    "\n",
    "* The weighted average selling price(based on actual sales volume) is identical **$16,50**.\n",
    "\n",
    "* This shows a consistent pricing across the menu\n",
    " \n",
    "\n",
    "### Q6.Peak Hours of Sales \n",
    "\n",
    "* Peak hours are **12:00-13:00 (lunch) and 17:00-19:00(dinner).**\n",
    "\n",
    "* **12PM** generated the highest revenue at ~$111,878.\n",
    "\n",
    "* These time windows are critical for staffing,kitchen prep and promotions.\n",
    "\n",
    "\n",
    "### Q7. Sales by Day of the Week\n",
    "\n",
    "* **Friday** is the strongest day (**~$136k** revenue).\n",
    "\n",
    "* **Thursday** and **Saturday** also perform well,both around **$123k**.\n",
    "\n",
    "* **Sunday** is the weakest day (~**$99k** revenue).\n",
    "\n",
    "* This suggests a strong end of week demand surge\n",
    "\n",
    "\n",
    "### Q8. Top 5 Bestselling Pizzas\n",
    "\n",
    "1. The Big Meat Pizza (S) : 1,914 sold\n",
    "\n",
    "2. The Thai Chicken Pizza (L) : 1,410 sold\n",
    "\n",
    "3. The Five Cheese Pizza (L) : 1,409 sold\n",
    "\n",
    "4. The Four Cheese Pizza (L) :1,316 sold\n",
    "\n",
    "5. The Classic Deluxe Pizza (M) : 1,181 sold\n",
    "\n",
    "* Bestsellers are dominated by **meat and cheese** varieties, showing customer preference for rich,classic flavours.\n",
    "\n",
    "\n",
    "\n",
    "### Q9. Montly Sales Trend\n",
    "* Monthly revenue ranges between **64k** and **72k** averaging ~$68k.\n",
    "\n",
    "* The trend is relatively **stable** across te year with small fluctuations\n",
    "\n",
    "* This consistency suggests the pizza place has steady demand,but no strong growth drivers. \n",
    "\n",
    "\n",
    "\n",
    "### Q10. Underperforming Pizza Types\n",
    "\n",
    "#### Lowest revenue pizzas:\n",
    "\n",
    "* The Brie Carre Pizza ~ $11,589\n",
    "\n",
    "* The Green Garden Pizza ~ $13,956\n",
    "\n",
    "* The Spinach Supreme Pizza ~ $15,278\n",
    "\n",
    "* These pizzas contribute very little to total revenue and may require **menu redesign,re-marketing or total removal**.\n"
   ]
  },
  {
   "cell_type": "markdown",
   "id": "a47aec69",
   "metadata": {},
   "source": [
    "### This analysis reveals that revenue is driven by a few top-performing pizzas and weekend sales peaks.\n",
    "\n",
    "### Future work could involve customer segmentation or predictive modeling."
   ]
  },
  {
   "cell_type": "code",
   "execution_count": null,
   "id": "3d956974",
   "metadata": {},
   "outputs": [],
   "source": []
  }
 ],
 "metadata": {
  "kernelspec": {
   "display_name": "Python 3",
   "language": "python",
   "name": "python3"
  },
  "language_info": {
   "codemirror_mode": {
    "name": "ipython",
    "version": 3
   },
   "file_extension": ".py",
   "mimetype": "text/x-python",
   "name": "python",
   "nbconvert_exporter": "python",
   "pygments_lexer": "ipython3",
   "version": "3.13.0"
  }
 },
 "nbformat": 4,
 "nbformat_minor": 5
}
